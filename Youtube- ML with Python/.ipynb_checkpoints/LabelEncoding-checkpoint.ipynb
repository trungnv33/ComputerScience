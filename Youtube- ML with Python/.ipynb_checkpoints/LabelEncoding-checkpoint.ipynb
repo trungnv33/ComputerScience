{
 "cells": [
  {
   "cell_type": "code",
   "execution_count": 94,
   "metadata": {},
   "outputs": [],
   "source": [
    "import pandas as pd\n",
    "import numpy as np\n",
    "from sklearn.preprocessing import LabelEncoder"
   ]
  },
  {
   "cell_type": "code",
   "execution_count": 89,
   "metadata": {},
   "outputs": [],
   "source": [
    "def handle_non_numerical_data(df):\n",
    "    columns = df.columns.values\n",
    "    for column in columns:\n",
    "        x = 0\n",
    "        digit_dict = {}\n",
    "        def convert_to_int(val):\n",
    "            return digit_dict[val]\n",
    "        if df[column].dtype != np.float64 and df[column].dtype != np.int64:\n",
    "            df_val = list(set(df[column]))\n",
    "            for val in df_val:\n",
    "                if val not in digit_dict:\n",
    "                    digit_dict[val] = x\n",
    "                    x += 1 \n",
    "            df[column] = list(map(convert_to_int,df[column])) \n",
    "    return df"
   ]
  }
 ],
 "metadata": {
  "kernelspec": {
   "display_name": "Python 3",
   "language": "python",
   "name": "python3"
  },
  "language_info": {
   "codemirror_mode": {
    "name": "ipython",
    "version": 3
   },
   "file_extension": ".py",
   "mimetype": "text/x-python",
   "name": "python",
   "nbconvert_exporter": "python",
   "pygments_lexer": "ipython3",
   "version": "3.7.0"
  }
 },
 "nbformat": 4,
 "nbformat_minor": 2
}
