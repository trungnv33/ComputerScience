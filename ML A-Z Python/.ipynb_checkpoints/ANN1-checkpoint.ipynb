{
 "cells": [
  {
   "cell_type": "code",
   "execution_count": 1,
   "metadata": {},
   "outputs": [],
   "source": [
    "import pandas as pd"
   ]
  },
  {
   "cell_type": "code",
   "execution_count": 2,
   "metadata": {},
   "outputs": [
    {
     "data": {
      "text/html": [
       "<div>\n",
       "<style scoped>\n",
       "    .dataframe tbody tr th:only-of-type {\n",
       "        vertical-align: middle;\n",
       "    }\n",
       "\n",
       "    .dataframe tbody tr th {\n",
       "        vertical-align: top;\n",
       "    }\n",
       "\n",
       "    .dataframe thead th {\n",
       "        text-align: right;\n",
       "    }\n",
       "</style>\n",
       "<table border=\"1\" class=\"dataframe\">\n",
       "  <thead>\n",
       "    <tr style=\"text-align: right;\">\n",
       "      <th></th>\n",
       "      <th>RowNumber</th>\n",
       "      <th>CustomerId</th>\n",
       "      <th>Surname</th>\n",
       "      <th>CreditScore</th>\n",
       "      <th>Geography</th>\n",
       "      <th>Gender</th>\n",
       "      <th>Age</th>\n",
       "      <th>Tenure</th>\n",
       "      <th>Balance</th>\n",
       "      <th>NumOfProducts</th>\n",
       "      <th>HasCrCard</th>\n",
       "      <th>IsActiveMember</th>\n",
       "      <th>EstimatedSalary</th>\n",
       "      <th>Exited</th>\n",
       "    </tr>\n",
       "  </thead>\n",
       "  <tbody>\n",
       "    <tr>\n",
       "      <th>0</th>\n",
       "      <td>1</td>\n",
       "      <td>15634602</td>\n",
       "      <td>Hargrave</td>\n",
       "      <td>619</td>\n",
       "      <td>France</td>\n",
       "      <td>Female</td>\n",
       "      <td>42</td>\n",
       "      <td>2</td>\n",
       "      <td>0.00</td>\n",
       "      <td>1</td>\n",
       "      <td>1</td>\n",
       "      <td>1</td>\n",
       "      <td>101348.88</td>\n",
       "      <td>1</td>\n",
       "    </tr>\n",
       "    <tr>\n",
       "      <th>1</th>\n",
       "      <td>2</td>\n",
       "      <td>15647311</td>\n",
       "      <td>Hill</td>\n",
       "      <td>608</td>\n",
       "      <td>Spain</td>\n",
       "      <td>Female</td>\n",
       "      <td>41</td>\n",
       "      <td>1</td>\n",
       "      <td>83807.86</td>\n",
       "      <td>1</td>\n",
       "      <td>0</td>\n",
       "      <td>1</td>\n",
       "      <td>112542.58</td>\n",
       "      <td>0</td>\n",
       "    </tr>\n",
       "    <tr>\n",
       "      <th>2</th>\n",
       "      <td>3</td>\n",
       "      <td>15619304</td>\n",
       "      <td>Onio</td>\n",
       "      <td>502</td>\n",
       "      <td>France</td>\n",
       "      <td>Female</td>\n",
       "      <td>42</td>\n",
       "      <td>8</td>\n",
       "      <td>159660.80</td>\n",
       "      <td>3</td>\n",
       "      <td>1</td>\n",
       "      <td>0</td>\n",
       "      <td>113931.57</td>\n",
       "      <td>1</td>\n",
       "    </tr>\n",
       "    <tr>\n",
       "      <th>3</th>\n",
       "      <td>4</td>\n",
       "      <td>15701354</td>\n",
       "      <td>Boni</td>\n",
       "      <td>699</td>\n",
       "      <td>France</td>\n",
       "      <td>Female</td>\n",
       "      <td>39</td>\n",
       "      <td>1</td>\n",
       "      <td>0.00</td>\n",
       "      <td>2</td>\n",
       "      <td>0</td>\n",
       "      <td>0</td>\n",
       "      <td>93826.63</td>\n",
       "      <td>0</td>\n",
       "    </tr>\n",
       "    <tr>\n",
       "      <th>4</th>\n",
       "      <td>5</td>\n",
       "      <td>15737888</td>\n",
       "      <td>Mitchell</td>\n",
       "      <td>850</td>\n",
       "      <td>Spain</td>\n",
       "      <td>Female</td>\n",
       "      <td>43</td>\n",
       "      <td>2</td>\n",
       "      <td>125510.82</td>\n",
       "      <td>1</td>\n",
       "      <td>1</td>\n",
       "      <td>1</td>\n",
       "      <td>79084.10</td>\n",
       "      <td>0</td>\n",
       "    </tr>\n",
       "  </tbody>\n",
       "</table>\n",
       "</div>"
      ],
      "text/plain": [
       "   RowNumber  CustomerId   Surname  CreditScore Geography  Gender  Age  \\\n",
       "0          1    15634602  Hargrave          619    France  Female   42   \n",
       "1          2    15647311      Hill          608     Spain  Female   41   \n",
       "2          3    15619304      Onio          502    France  Female   42   \n",
       "3          4    15701354      Boni          699    France  Female   39   \n",
       "4          5    15737888  Mitchell          850     Spain  Female   43   \n",
       "\n",
       "   Tenure    Balance  NumOfProducts  HasCrCard  IsActiveMember  \\\n",
       "0       2       0.00              1          1               1   \n",
       "1       1   83807.86              1          0               1   \n",
       "2       8  159660.80              3          1               0   \n",
       "3       1       0.00              2          0               0   \n",
       "4       2  125510.82              1          1               1   \n",
       "\n",
       "   EstimatedSalary  Exited  \n",
       "0        101348.88       1  \n",
       "1        112542.58       0  \n",
       "2        113931.57       1  \n",
       "3         93826.63       0  \n",
       "4         79084.10       0  "
      ]
     },
     "execution_count": 2,
     "metadata": {},
     "output_type": "execute_result"
    }
   ],
   "source": [
    "dataset = pd.read_csv('Churn_Modelling.csv')\n",
    "dataset.head()"
   ]
  },
  {
   "cell_type": "code",
   "execution_count": 3,
   "metadata": {},
   "outputs": [
    {
     "data": {
      "text/plain": [
       "array([[619, 'France', 'Female', ..., 1, 1, 101348.88],\n",
       "       [608, 'Spain', 'Female', ..., 0, 1, 112542.58],\n",
       "       [502, 'France', 'Female', ..., 1, 0, 113931.57],\n",
       "       ...,\n",
       "       [709, 'France', 'Female', ..., 0, 1, 42085.58],\n",
       "       [772, 'Germany', 'Male', ..., 1, 0, 92888.52],\n",
       "       [792, 'France', 'Female', ..., 1, 0, 38190.78]], dtype=object)"
      ]
     },
     "execution_count": 3,
     "metadata": {},
     "output_type": "execute_result"
    }
   ],
   "source": [
    "X = dataset.iloc[:,3:13].values\n",
    "y = dataset.iloc[:,13].values\n",
    "X"
   ]
  },
  {
   "cell_type": "code",
   "execution_count": 4,
   "metadata": {},
   "outputs": [],
   "source": [
    "from sklearn.preprocessing import LabelEncoder , OneHotEncoder\n",
    "X1_Label = LabelEncoder()\n",
    "X[:,1] = X1_Label.fit_transform(X[:,1])\n",
    "X2_Label = LabelEncoder()\n",
    "X[:,2] = X2_Label.fit_transform(X[:,2])"
   ]
  },
  {
   "cell_type": "code",
   "execution_count": 5,
   "metadata": {},
   "outputs": [],
   "source": [
    "onehotencoder = OneHotEncoder(categorical_features = [1])\n",
    "X = onehotencoder.fit_transform(X).toarray()"
   ]
  },
  {
   "cell_type": "markdown",
   "metadata": {},
   "source": [
    "### QUAN TRỌNG : Remove 1 cột đầu tiên của X để tránh dính phải DUMMY VARIABLES !!!! https://www.youtube.com/watch?v=qrWx3OjZL3o"
   ]
  },
  {
   "cell_type": "code",
   "execution_count": 6,
   "metadata": {},
   "outputs": [],
   "source": [
    "X = X[:,1:]"
   ]
  },
  {
   "cell_type": "code",
   "execution_count": 7,
   "metadata": {},
   "outputs": [],
   "source": [
    "from sklearn.model_selection import train_test_split\n",
    "X_train, X_test , y_train, y_test = train_test_split(X,y,test_size = 0.2,random_state= 0)"
   ]
  },
  {
   "cell_type": "code",
   "execution_count": 8,
   "metadata": {},
   "outputs": [],
   "source": [
    "from sklearn.preprocessing import StandardScaler\n",
    "sc = StandardScaler().fit(X_train) # fit model standard scaler với X_train\n",
    "X_train = sc.transform(X_train)\n",
    "X_test = sc.transform(X_test)"
   ]
  },
  {
   "cell_type": "markdown",
   "metadata": {},
   "source": [
    "### Khởi tạo Neural Network:"
   ]
  },
  {
   "cell_type": "code",
   "execution_count": 13,
   "metadata": {},
   "outputs": [],
   "source": [
    "import keras\n",
    "from keras.models import Sequential\n",
    "from keras.layers import Dense"
   ]
  },
  {
   "cell_type": "markdown",
   "metadata": {},
   "source": [
    "### Initializing the ANN:"
   ]
  },
  {
   "cell_type": "code",
   "execution_count": 16,
   "metadata": {},
   "outputs": [],
   "source": [
    "classifier = Sequential()"
   ]
  },
  {
   "cell_type": "markdown",
   "metadata": {},
   "source": [
    "### Adding input layer and 1st hidden layer:"
   ]
  },
  {
   "cell_type": "code",
   "execution_count": 18,
   "metadata": {},
   "outputs": [
    {
     "name": "stderr",
     "output_type": "stream",
     "text": [
      "C:\\Users\\Admin\\Anaconda3\\lib\\site-packages\\ipykernel_launcher.py:1: UserWarning: Update your `Dense` call to the Keras 2 API: `Dense(activation=\"relu\", input_dim=11, units=6, kernel_initializer=\"uniform\")`\n",
      "  \"\"\"Entry point for launching an IPython kernel.\n"
     ]
    }
   ],
   "source": [
    "classifier.add(Dense(output_dim = 6, init= 'uniform',activation = 'relu',input_dim = 11)) \n",
    "# ta chọn số node trong hidden layer = (số node input+ số node output)/2"
   ]
  },
  {
   "cell_type": "markdown",
   "metadata": {},
   "source": [
    "### Adding 2nd hidden layer:"
   ]
  },
  {
   "cell_type": "code",
   "execution_count": 19,
   "metadata": {},
   "outputs": [
    {
     "name": "stderr",
     "output_type": "stream",
     "text": [
      "C:\\Users\\Admin\\Anaconda3\\lib\\site-packages\\ipykernel_launcher.py:1: UserWarning: Update your `Dense` call to the Keras 2 API: `Dense(activation=\"relu\", units=6, kernel_initializer=\"uniform\")`\n",
      "  \"\"\"Entry point for launching an IPython kernel.\n"
     ]
    }
   ],
   "source": [
    "classifier.add(Dense(output_dim = 6, init= 'uniform',activation = 'relu'))"
   ]
  },
  {
   "cell_type": "markdown",
   "metadata": {},
   "source": [
    "### Adding the output layer:"
   ]
  },
  {
   "cell_type": "code",
   "execution_count": 20,
   "metadata": {},
   "outputs": [
    {
     "name": "stderr",
     "output_type": "stream",
     "text": [
      "C:\\Users\\Admin\\Anaconda3\\lib\\site-packages\\ipykernel_launcher.py:1: UserWarning: Update your `Dense` call to the Keras 2 API: `Dense(activation=\"sigmoid\", units=1, kernel_initializer=\"uniform\")`\n",
      "  \"\"\"Entry point for launching an IPython kernel.\n"
     ]
    }
   ],
   "source": [
    "classifier.add(Dense(output_dim = 1, init= 'uniform',activation = 'sigmoid'))"
   ]
  },
  {
   "cell_type": "markdown",
   "metadata": {},
   "source": [
    "### COMPILE ANN FOR PREDICTION"
   ]
  },
  {
   "cell_type": "code",
   "execution_count": 29,
   "metadata": {},
   "outputs": [],
   "source": [
    "classifier.compile(optimizer = 'adam', loss = 'binary_crossentropy',metrics = ['accuracy'])"
   ]
  },
  {
   "cell_type": "code",
   "execution_count": 30,
   "metadata": {},
   "outputs": [
    {
     "name": "stderr",
     "output_type": "stream",
     "text": [
      "C:\\Users\\Admin\\Anaconda3\\lib\\site-packages\\ipykernel_launcher.py:1: UserWarning: The `nb_epoch` argument in `fit` has been renamed `epochs`.\n",
      "  \"\"\"Entry point for launching an IPython kernel.\n"
     ]
    },
    {
     "name": "stdout",
     "output_type": "stream",
     "text": [
      "Epoch 1/100\n",
      "8000/8000 [==============================] - 2s 279us/step - loss: 0.4394 - acc: 0.7960\n",
      "Epoch 2/100\n",
      "8000/8000 [==============================] - 1s 185us/step - loss: 0.4301 - acc: 0.7960\n",
      "Epoch 3/100\n",
      "8000/8000 [==============================] - 1s 186us/step - loss: 0.4262 - acc: 0.7960\n",
      "Epoch 4/100\n",
      "8000/8000 [==============================] - 2s 188us/step - loss: 0.4223 - acc: 0.8060\n",
      "Epoch 5/100\n",
      "8000/8000 [==============================] - 2s 196us/step - loss: 0.4182 - acc: 0.8231\n",
      "Epoch 6/100\n",
      "8000/8000 [==============================] - 2s 208us/step - loss: 0.4155 - acc: 0.8281\n",
      "Epoch 7/100\n",
      "8000/8000 [==============================] - 1s 187us/step - loss: 0.4140 - acc: 0.8305\n",
      "Epoch 8/100\n",
      "8000/8000 [==============================] - 2s 195us/step - loss: 0.4124 - acc: 0.8320\n",
      "Epoch 9/100\n",
      "8000/8000 [==============================] - 2s 193us/step - loss: 0.4110 - acc: 0.8341\n",
      "Epoch 10/100\n",
      "8000/8000 [==============================] - 2s 195us/step - loss: 0.4102 - acc: 0.8329\n",
      "Epoch 11/100\n",
      "8000/8000 [==============================] - 2s 201us/step - loss: 0.4093 - acc: 0.8344\n",
      "Epoch 12/100\n",
      "8000/8000 [==============================] - 2s 193us/step - loss: 0.4080 - acc: 0.8327\n",
      "Epoch 13/100\n",
      "8000/8000 [==============================] - 2s 195us/step - loss: 0.4078 - acc: 0.8342\n",
      "Epoch 14/100\n",
      "8000/8000 [==============================] - 2s 193us/step - loss: 0.4071 - acc: 0.8347\n",
      "Epoch 15/100\n",
      "8000/8000 [==============================] - 2s 195us/step - loss: 0.4062 - acc: 0.8326\n",
      "Epoch 16/100\n",
      "8000/8000 [==============================] - 2s 213us/step - loss: 0.4059 - acc: 0.8342\n",
      "Epoch 17/100\n",
      "8000/8000 [==============================] - 2s 228us/step - loss: 0.4057 - acc: 0.8340\n",
      "Epoch 18/100\n",
      "8000/8000 [==============================] - 2s 214us/step - loss: 0.4047 - acc: 0.8339\n",
      "Epoch 19/100\n",
      "8000/8000 [==============================] - 2s 218us/step - loss: 0.4046 - acc: 0.8340\n",
      "Epoch 20/100\n",
      "8000/8000 [==============================] - 2s 222us/step - loss: 0.4041 - acc: 0.8346\n",
      "Epoch 21/100\n",
      "8000/8000 [==============================] - 2s 214us/step - loss: 0.4041 - acc: 0.8340\n",
      "Epoch 22/100\n",
      "8000/8000 [==============================] - 2s 215us/step - loss: 0.4040 - acc: 0.8337\n",
      "Epoch 23/100\n",
      "8000/8000 [==============================] - 2s 223us/step - loss: 0.4035 - acc: 0.8337\n",
      "Epoch 24/100\n",
      "8000/8000 [==============================] - 2s 215us/step - loss: 0.4030 - acc: 0.8336\n",
      "Epoch 25/100\n",
      "8000/8000 [==============================] - 2s 217us/step - loss: 0.4030 - acc: 0.8359\n",
      "Epoch 26/100\n",
      "8000/8000 [==============================] - 2s 221us/step - loss: 0.4027 - acc: 0.8355\n",
      "Epoch 27/100\n",
      "8000/8000 [==============================] - 2s 221us/step - loss: 0.4022 - acc: 0.8340\n",
      "Epoch 28/100\n",
      "8000/8000 [==============================] - 2s 221us/step - loss: 0.4023 - acc: 0.8347\n",
      "Epoch 29/100\n",
      "8000/8000 [==============================] - 2s 223us/step - loss: 0.4023 - acc: 0.8346\n",
      "Epoch 30/100\n",
      "8000/8000 [==============================] - 2s 222us/step - loss: 0.4022 - acc: 0.8347\n",
      "Epoch 31/100\n",
      "8000/8000 [==============================] - 2s 222us/step - loss: 0.4018 - acc: 0.8336\n",
      "Epoch 32/100\n",
      "8000/8000 [==============================] - 2s 228us/step - loss: 0.4022 - acc: 0.8342\n",
      "Epoch 33/100\n",
      "8000/8000 [==============================] - 2s 256us/step - loss: 0.4018 - acc: 0.8351\n",
      "Epoch 34/100\n",
      "8000/8000 [==============================] - 2s 232us/step - loss: 0.4020 - acc: 0.8345\n",
      "Epoch 35/100\n",
      "8000/8000 [==============================] - 2s 221us/step - loss: 0.4015 - acc: 0.8354\n",
      "Epoch 36/100\n",
      "8000/8000 [==============================] - 2s 233us/step - loss: 0.4012 - acc: 0.8337\n",
      "Epoch 37/100\n",
      "8000/8000 [==============================] - 2s 218us/step - loss: 0.4016 - acc: 0.8350\n",
      "Epoch 38/100\n",
      "8000/8000 [==============================] - 2s 215us/step - loss: 0.4015 - acc: 0.8350\n",
      "Epoch 39/100\n",
      "8000/8000 [==============================] - 2s 215us/step - loss: 0.4014 - acc: 0.8355\n",
      "Epoch 40/100\n",
      "8000/8000 [==============================] - 2s 220us/step - loss: 0.4013 - acc: 0.8345\n",
      "Epoch 41/100\n",
      "8000/8000 [==============================] - 2s 219us/step - loss: 0.4011 - acc: 0.8341\n",
      "Epoch 42/100\n",
      "8000/8000 [==============================] - 2s 211us/step - loss: 0.4015 - acc: 0.8352\n",
      "Epoch 43/100\n",
      "8000/8000 [==============================] - 2s 211us/step - loss: 0.4009 - acc: 0.8350\n",
      "Epoch 44/100\n",
      "8000/8000 [==============================] - 2s 227us/step - loss: 0.4014 - acc: 0.8344\n",
      "Epoch 45/100\n",
      "8000/8000 [==============================] - 2s 196us/step - loss: 0.4006 - acc: 0.8334\n",
      "Epoch 46/100\n",
      "8000/8000 [==============================] - 2s 198us/step - loss: 0.4012 - acc: 0.8345\n",
      "Epoch 47/100\n",
      "8000/8000 [==============================] - 2s 208us/step - loss: 0.4007 - acc: 0.8355\n",
      "Epoch 48/100\n",
      "8000/8000 [==============================] - 2s 213us/step - loss: 0.4010 - acc: 0.8341\n",
      "Epoch 49/100\n",
      "8000/8000 [==============================] - 2s 215us/step - loss: 0.4003 - acc: 0.8336\n",
      "Epoch 50/100\n",
      "8000/8000 [==============================] - 2s 235us/step - loss: 0.4009 - acc: 0.8340\n",
      "Epoch 51/100\n",
      "8000/8000 [==============================] - 2s 235us/step - loss: 0.4005 - acc: 0.8354\n",
      "Epoch 52/100\n",
      "8000/8000 [==============================] - 2s 225us/step - loss: 0.4003 - acc: 0.8347\n",
      "Epoch 53/100\n",
      "8000/8000 [==============================] - 2s 224us/step - loss: 0.4009 - acc: 0.8345\n",
      "Epoch 54/100\n",
      "8000/8000 [==============================] - 2s 225us/step - loss: 0.4005 - acc: 0.8337\n",
      "Epoch 55/100\n",
      "8000/8000 [==============================] - 2s 217us/step - loss: 0.4006 - acc: 0.8355\n",
      "Epoch 56/100\n",
      "8000/8000 [==============================] - 2s 224us/step - loss: 0.4004 - acc: 0.8342\n",
      "Epoch 57/100\n",
      "8000/8000 [==============================] - 2s 224us/step - loss: 0.4008 - acc: 0.8360\n",
      "Epoch 58/100\n",
      "8000/8000 [==============================] - 2s 219us/step - loss: 0.4002 - acc: 0.8361\n",
      "Epoch 59/100\n",
      "8000/8000 [==============================] - 2s 219us/step - loss: 0.4006 - acc: 0.8340\n",
      "Epoch 60/100\n",
      "8000/8000 [==============================] - 2s 227us/step - loss: 0.4005 - acc: 0.8344\n",
      "Epoch 61/100\n",
      "8000/8000 [==============================] - 2s 222us/step - loss: 0.4002 - acc: 0.8341\n",
      "Epoch 62/100\n",
      "8000/8000 [==============================] - 2s 232us/step - loss: 0.4006 - acc: 0.8350\n",
      "Epoch 63/100\n",
      "8000/8000 [==============================] - 2s 214us/step - loss: 0.4002 - acc: 0.8346\n",
      "Epoch 64/100\n",
      "8000/8000 [==============================] - 2s 234us/step - loss: 0.4002 - acc: 0.8356\n",
      "Epoch 65/100\n",
      "8000/8000 [==============================] - 2s 229us/step - loss: 0.4007 - acc: 0.8339\n",
      "Epoch 66/100\n",
      "8000/8000 [==============================] - 2s 222us/step - loss: 0.4002 - acc: 0.8336\n",
      "Epoch 67/100\n",
      "8000/8000 [==============================] - 2s 220us/step - loss: 0.4004 - acc: 0.8366\n",
      "Epoch 68/100\n",
      "8000/8000 [==============================] - 2s 215us/step - loss: 0.4005 - acc: 0.8352\n",
      "Epoch 69/100\n",
      "8000/8000 [==============================] - 2s 222us/step - loss: 0.3999 - acc: 0.8337\n",
      "Epoch 70/100\n",
      "8000/8000 [==============================] - 2s 218us/step - loss: 0.4005 - acc: 0.8342\n",
      "Epoch 71/100\n",
      "8000/8000 [==============================] - 2s 213us/step - loss: 0.4003 - acc: 0.8349\n",
      "Epoch 72/100\n",
      "8000/8000 [==============================] - 2s 213us/step - loss: 0.3998 - acc: 0.8359\n",
      "Epoch 73/100\n",
      "8000/8000 [==============================] - 2s 219us/step - loss: 0.3998 - acc: 0.8350\n",
      "Epoch 74/100\n",
      "8000/8000 [==============================] - 2s 213us/step - loss: 0.4004 - acc: 0.8370\n",
      "Epoch 75/100\n",
      "8000/8000 [==============================] - 2s 220us/step - loss: 0.4002 - acc: 0.8359\n",
      "Epoch 76/100\n",
      "8000/8000 [==============================] - 2s 218us/step - loss: 0.4001 - acc: 0.8350\n",
      "Epoch 77/100\n",
      "8000/8000 [==============================] - 2s 216us/step - loss: 0.3999 - acc: 0.8351\n",
      "Epoch 78/100\n",
      "8000/8000 [==============================] - 2s 213us/step - loss: 0.4001 - acc: 0.8346\n",
      "Epoch 79/100\n",
      "8000/8000 [==============================] - 2s 216us/step - loss: 0.4003 - acc: 0.8356\n",
      "Epoch 80/100\n",
      "8000/8000 [==============================] - 2s 213us/step - loss: 0.4001 - acc: 0.8352\n",
      "Epoch 81/100\n",
      "8000/8000 [==============================] - 2s 213us/step - loss: 0.4002 - acc: 0.8344\n",
      "Epoch 82/100\n",
      "8000/8000 [==============================] - 2s 217us/step - loss: 0.3998 - acc: 0.8354\n",
      "Epoch 83/100\n",
      "8000/8000 [==============================] - 2s 209us/step - loss: 0.4004 - acc: 0.8351\n",
      "Epoch 84/100\n",
      "8000/8000 [==============================] - 2s 216us/step - loss: 0.3998 - acc: 0.8352\n",
      "Epoch 85/100\n",
      "8000/8000 [==============================] - 2s 215us/step - loss: 0.4001 - acc: 0.8347\n",
      "Epoch 86/100\n",
      "8000/8000 [==============================] - 2s 230us/step - loss: 0.4000 - acc: 0.8355\n",
      "Epoch 87/100\n",
      "8000/8000 [==============================] - 2s 218us/step - loss: 0.4004 - acc: 0.8340\n",
      "Epoch 88/100\n",
      "8000/8000 [==============================] - 2s 216us/step - loss: 0.4000 - acc: 0.8336\n",
      "Epoch 89/100\n",
      "8000/8000 [==============================] - 2s 209us/step - loss: 0.3998 - acc: 0.8352\n",
      "Epoch 90/100\n",
      "8000/8000 [==============================] - 2s 213us/step - loss: 0.3996 - acc: 0.8341\n",
      "Epoch 91/100\n",
      "8000/8000 [==============================] - 2s 215us/step - loss: 0.4000 - acc: 0.8356\n",
      "Epoch 92/100\n",
      "8000/8000 [==============================] - 2s 208us/step - loss: 0.3997 - acc: 0.8340\n",
      "Epoch 93/100\n",
      "8000/8000 [==============================] - 2s 223us/step - loss: 0.3999 - acc: 0.8344\n",
      "Epoch 94/100\n",
      "8000/8000 [==============================] - 2s 215us/step - loss: 0.3998 - acc: 0.8354\n",
      "Epoch 95/100\n",
      "8000/8000 [==============================] - 2s 224us/step - loss: 0.4000 - acc: 0.8356\n",
      "Epoch 96/100\n",
      "8000/8000 [==============================] - 2s 217us/step - loss: 0.3998 - acc: 0.8339\n",
      "Epoch 97/100\n",
      "8000/8000 [==============================] - 2s 207us/step - loss: 0.3999 - acc: 0.8364\n",
      "Epoch 98/100\n",
      "8000/8000 [==============================] - 2s 212us/step - loss: 0.3998 - acc: 0.8354\n",
      "Epoch 99/100\n",
      "8000/8000 [==============================] - 2s 216us/step - loss: 0.3999 - acc: 0.8342\n",
      "Epoch 100/100\n",
      "8000/8000 [==============================] - 2s 212us/step - loss: 0.4000 - acc: 0.8344\n"
     ]
    },
    {
     "data": {
      "text/plain": [
       "<keras.callbacks.History at 0x23af18876d8>"
      ]
     },
     "execution_count": 30,
     "metadata": {},
     "output_type": "execute_result"
    }
   ],
   "source": [
    "classifier.fit(X_train,y_train,batch_size = 10,nb_epoch = 100)"
   ]
  },
  {
   "cell_type": "markdown",
   "metadata": {},
   "source": [
    "### Predictions:"
   ]
  },
  {
   "cell_type": "code",
   "execution_count": 34,
   "metadata": {},
   "outputs": [
    {
     "name": "stdout",
     "output_type": "stream",
     "text": [
      "y_pred=   [[False]\n",
      " [False]\n",
      " [False]\n",
      " ...\n",
      " [False]\n",
      " [False]\n",
      " [False]]\n"
     ]
    }
   ],
   "source": [
    "y_pred = classifier.predict(X_test)\n",
    "y_pred = (y_pred > 0.5)\n",
    "print('y_pred=  ', y_pred)"
   ]
  },
  {
   "cell_type": "markdown",
   "metadata": {},
   "source": [
    "### Making the Confusion Matrix"
   ]
  },
  {
   "cell_type": "code",
   "execution_count": 35,
   "metadata": {},
   "outputs": [
    {
     "data": {
      "text/plain": [
       "array([[1549,   46],\n",
       "       [ 269,  136]], dtype=int64)"
      ]
     },
     "execution_count": 35,
     "metadata": {},
     "output_type": "execute_result"
    }
   ],
   "source": [
    "from sklearn.metrics import confusion_matrix\n",
    "cm = confusion_matrix(y_test,y_pred)\n",
    "cm"
   ]
  },
  {
   "cell_type": "markdown",
   "metadata": {},
   "source": [
    "## ở đây ta có 1549+136 dự đoán đúng ( đường chéo ) và 269 + 46 dự đoán sai"
   ]
  },
  {
   "cell_type": "code",
   "execution_count": null,
   "metadata": {},
   "outputs": [],
   "source": []
  }
 ],
 "metadata": {
  "kernelspec": {
   "display_name": "Python 3",
   "language": "python",
   "name": "python3"
  },
  "language_info": {
   "codemirror_mode": {
    "name": "ipython",
    "version": 3
   },
   "file_extension": ".py",
   "mimetype": "text/x-python",
   "name": "python",
   "nbconvert_exporter": "python",
   "pygments_lexer": "ipython3",
   "version": "3.6.5"
  }
 },
 "nbformat": 4,
 "nbformat_minor": 2
}
