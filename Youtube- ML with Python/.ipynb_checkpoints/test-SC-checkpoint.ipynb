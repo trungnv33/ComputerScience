{
 "cells": [
  {
   "cell_type": "code",
   "execution_count": 11,
   "metadata": {},
   "outputs": [],
   "source": [
    "import pandas as pd \n",
    "from sklearn.cluster import KMeans\n",
    "import pandas as pd \n",
    "import numpy as np \n",
    "from sklearn.cluster import KMeans\n",
    "from sklearn.neighbors import KNeighborsClassifier as KNN\n",
    "from sklearn import preprocessing\n",
    "from sklearn.metrics import accuracy_score\n",
    "from sklearn.preprocessing import LabelEncoder,OneHotEncoder"
   ]
  },
  {
   "cell_type": "code",
   "execution_count": 12,
   "metadata": {},
   "outputs": [
    {
     "data": {
      "text/plain": [
       "Index(['Mã Ticket', 'Tiêu đề', 'Nhóm phần tử', 'Phần tử', 'Loại dịch vụ',\n",
       "       'Loại khách hàng', 'Mô tả / Thông tin đầu vào', 'Nguyên nhân',\n",
       "       'Nguyên nhân chi tiết', 'Ghi chú', 'Cấp độ', 'Số lượng KH',\n",
       "       'TG tạo Ticket', 'TG qui định hoàn thành', 'TG phát sinh',\n",
       "       'TG dự kiến hoàn thành', 'TG Resolved', 'TG hoàn thành',\n",
       "       'Tổng TG xử lý', 'TG gián đoạn', 'Trạng thái', 'Trạng thái nhắc nhở',\n",
       "       'Queue', 'Nhân viên xử lý', 'Bộ phận thông báo', 'Nhân viên tạo',\n",
       "       'Vùng ảnh hưởng', 'CN ảnh hưởng', 'Hạn xử lý', 'Mức ưu tiên', 'Cha/Con',\n",
       "       'Số lượng KH PayTV', 'Loại hỗ trợ', 'Hình thái lỗi', 'Phân đoạn lỗi',\n",
       "       'Node lỗi', 'Tổng thời gian thực'],\n",
       "      dtype='object')"
      ]
     },
     "execution_count": 12,
     "metadata": {},
     "output_type": "execute_result"
    }
   ],
   "source": [
    "df = pd.read_csv('ThongKePhanTuSuCo.csv')\n",
    "df.columns"
   ]
  },
  {
   "cell_type": "code",
   "execution_count": 13,
   "metadata": {},
   "outputs": [
    {
     "data": {
      "text/html": [
       "<div>\n",
       "<style scoped>\n",
       "    .dataframe tbody tr th:only-of-type {\n",
       "        vertical-align: middle;\n",
       "    }\n",
       "\n",
       "    .dataframe tbody tr th {\n",
       "        vertical-align: top;\n",
       "    }\n",
       "\n",
       "    .dataframe thead th {\n",
       "        text-align: right;\n",
       "    }\n",
       "</style>\n",
       "<table border=\"1\" class=\"dataframe\">\n",
       "  <thead>\n",
       "    <tr style=\"text-align: right;\">\n",
       "      <th></th>\n",
       "      <th>Mã Ticket</th>\n",
       "      <th>Nhóm phần tử</th>\n",
       "      <th>Phần tử</th>\n",
       "      <th>Mô tả / Thông tin đầu vào</th>\n",
       "      <th>Cấp độ</th>\n",
       "      <th>Tổng TG xử lý</th>\n",
       "      <th>Mức ưu tiên</th>\n",
       "    </tr>\n",
       "  </thead>\n",
       "  <tbody>\n",
       "    <tr>\n",
       "      <th>0</th>\n",
       "      <td>SC0108180001</td>\n",
       "      <td>Hệ Thống Access</td>\n",
       "      <td>Port PON</td>\n",
       "      <td>PORT PON DOWN</td>\n",
       "      <td>1</td>\n",
       "      <td>773</td>\n",
       "      <td>0</td>\n",
       "    </tr>\n",
       "    <tr>\n",
       "      <th>1</th>\n",
       "      <td>SC0108180002</td>\n",
       "      <td>Hệ Thống Access</td>\n",
       "      <td>Nguồn</td>\n",
       "      <td>Nguồn Mất điện AC</td>\n",
       "      <td>2</td>\n",
       "      <td>363</td>\n",
       "      <td>1</td>\n",
       "    </tr>\n",
       "    <tr>\n",
       "      <th>2</th>\n",
       "      <td>SC0108180003</td>\n",
       "      <td>Hệ thống Ngoại vi</td>\n",
       "      <td>KÊNH BACKBONE</td>\n",
       "      <td>Kênh BackBone Down</td>\n",
       "      <td>3</td>\n",
       "      <td>9322</td>\n",
       "      <td>0</td>\n",
       "    </tr>\n",
       "    <tr>\n",
       "      <th>3</th>\n",
       "      <td>SC0108180004</td>\n",
       "      <td>Hệ Thống Access</td>\n",
       "      <td>Nguồn</td>\n",
       "      <td>Nguồn Tăng Áp AC</td>\n",
       "      <td>2</td>\n",
       "      <td>81</td>\n",
       "      <td>1</td>\n",
       "    </tr>\n",
       "    <tr>\n",
       "      <th>4</th>\n",
       "      <td>SC0108180005</td>\n",
       "      <td>Hệ Thống Access</td>\n",
       "      <td>Nguồn</td>\n",
       "      <td>Lỗi LVD Fail</td>\n",
       "      <td>2</td>\n",
       "      <td>440</td>\n",
       "      <td>1</td>\n",
       "    </tr>\n",
       "  </tbody>\n",
       "</table>\n",
       "</div>"
      ],
      "text/plain": [
       "      Mã Ticket       Nhóm phần tử        Phần tử Mô tả / Thông tin đầu vào  \\\n",
       "0  SC0108180001    Hệ Thống Access       Port PON             PORT PON DOWN   \n",
       "1  SC0108180002    Hệ Thống Access          Nguồn         Nguồn Mất điện AC   \n",
       "2  SC0108180003  Hệ thống Ngoại vi  KÊNH BACKBONE        Kênh BackBone Down   \n",
       "3  SC0108180004    Hệ Thống Access          Nguồn          Nguồn Tăng Áp AC   \n",
       "4  SC0108180005    Hệ Thống Access          Nguồn              Lỗi LVD Fail   \n",
       "\n",
       "   Cấp độ  Tổng TG xử lý  Mức ưu tiên  \n",
       "0       1            773            0  \n",
       "1       2            363            1  \n",
       "2       3           9322            0  \n",
       "3       2             81            1  \n",
       "4       2            440            1  "
      ]
     },
     "execution_count": 13,
     "metadata": {},
     "output_type": "execute_result"
    }
   ],
   "source": [
    "df=  df[['Mã Ticket','Nhóm phần tử','Phần tử','Mô tả / Thông tin đầu vào','Cấp độ','Tổng TG xử lý','Mức ưu tiên']]\n",
    "df.head()"
   ]
  },
  {
   "cell_type": "code",
   "execution_count": 14,
   "metadata": {},
   "outputs": [
    {
     "data": {
      "text/html": [
       "<div>\n",
       "<style scoped>\n",
       "    .dataframe tbody tr th:only-of-type {\n",
       "        vertical-align: middle;\n",
       "    }\n",
       "\n",
       "    .dataframe tbody tr th {\n",
       "        vertical-align: top;\n",
       "    }\n",
       "\n",
       "    .dataframe thead th {\n",
       "        text-align: right;\n",
       "    }\n",
       "</style>\n",
       "<table border=\"1\" class=\"dataframe\">\n",
       "  <thead>\n",
       "    <tr style=\"text-align: right;\">\n",
       "      <th></th>\n",
       "      <th>Nhóm phần tử</th>\n",
       "      <th>Phần tử</th>\n",
       "      <th>Mô tả / Thông tin đầu vào</th>\n",
       "      <th>Cấp độ</th>\n",
       "      <th>Tổng TG xử lý</th>\n",
       "      <th>Mức ưu tiên</th>\n",
       "    </tr>\n",
       "  </thead>\n",
       "  <tbody>\n",
       "    <tr>\n",
       "      <th>0</th>\n",
       "      <td>Hệ Thống Access</td>\n",
       "      <td>Port PON</td>\n",
       "      <td>PORT PON DOWN</td>\n",
       "      <td>1</td>\n",
       "      <td>773</td>\n",
       "      <td>0</td>\n",
       "    </tr>\n",
       "    <tr>\n",
       "      <th>1</th>\n",
       "      <td>Hệ Thống Access</td>\n",
       "      <td>Nguồn</td>\n",
       "      <td>Nguồn Mất điện AC</td>\n",
       "      <td>2</td>\n",
       "      <td>363</td>\n",
       "      <td>1</td>\n",
       "    </tr>\n",
       "    <tr>\n",
       "      <th>2</th>\n",
       "      <td>Hệ thống Ngoại vi</td>\n",
       "      <td>KÊNH BACKBONE</td>\n",
       "      <td>Kênh BackBone Down</td>\n",
       "      <td>3</td>\n",
       "      <td>9322</td>\n",
       "      <td>0</td>\n",
       "    </tr>\n",
       "    <tr>\n",
       "      <th>3</th>\n",
       "      <td>Hệ Thống Access</td>\n",
       "      <td>Nguồn</td>\n",
       "      <td>Nguồn Tăng Áp AC</td>\n",
       "      <td>2</td>\n",
       "      <td>81</td>\n",
       "      <td>1</td>\n",
       "    </tr>\n",
       "    <tr>\n",
       "      <th>4</th>\n",
       "      <td>Hệ Thống Access</td>\n",
       "      <td>Nguồn</td>\n",
       "      <td>Lỗi LVD Fail</td>\n",
       "      <td>2</td>\n",
       "      <td>440</td>\n",
       "      <td>1</td>\n",
       "    </tr>\n",
       "  </tbody>\n",
       "</table>\n",
       "</div>"
      ],
      "text/plain": [
       "        Nhóm phần tử        Phần tử Mô tả / Thông tin đầu vào  Cấp độ  \\\n",
       "0    Hệ Thống Access       Port PON             PORT PON DOWN       1   \n",
       "1    Hệ Thống Access          Nguồn         Nguồn Mất điện AC       2   \n",
       "2  Hệ thống Ngoại vi  KÊNH BACKBONE        Kênh BackBone Down       3   \n",
       "3    Hệ Thống Access          Nguồn          Nguồn Tăng Áp AC       2   \n",
       "4    Hệ Thống Access          Nguồn              Lỗi LVD Fail       2   \n",
       "\n",
       "   Tổng TG xử lý  Mức ưu tiên  \n",
       "0            773            0  \n",
       "1            363            1  \n",
       "2           9322            0  \n",
       "3             81            1  \n",
       "4            440            1  "
      ]
     },
     "execution_count": 14,
     "metadata": {},
     "output_type": "execute_result"
    }
   ],
   "source": [
    "df_train = df.drop(['Mã Ticket'],1)\n",
    "df_train.head()"
   ]
  },
  {
   "cell_type": "code",
   "execution_count": 16,
   "metadata": {},
   "outputs": [
    {
     "name": "stdout",
     "output_type": "stream",
     "text": [
      "X_transform =    (0, 167)\t1.0\n",
      "  (0, 136)\t1.0\n",
      "  (0, 53)\t1.0\n",
      "  (0, 0)\t1.0\n",
      "  (1, 168)\t1.0\n",
      "  (1, 125)\t1.0\n",
      "  (1, 48)\t1.0\n",
      "  (1, 0)\t1.0\n",
      "  (2, 167)\t1.0\n",
      "  (2, 90)\t1.0\n",
      "  (2, 33)\t1.0\n",
      "  (2, 6)\t1.0\n",
      "  (3, 168)\t1.0\n",
      "  (3, 127)\t1.0\n",
      "  (3, 48)\t1.0\n",
      "  (3, 0)\t1.0\n",
      "  (4, 168)\t1.0\n",
      "  (4, 107)\t1.0\n",
      "  (4, 48)\t1.0\n",
      "  (4, 0)\t1.0\n",
      "  (5, 168)\t1.0\n",
      "  (5, 116)\t1.0\n",
      "  (5, 48)\t1.0\n",
      "  (5, 0)\t1.0\n",
      "  (6, 168)\t1.0\n",
      "  :\t:\n",
      "  (14510, 170)\t2387.0\n",
      "  (14511, 169)\t5.0\n",
      "  (14511, 170)\t36.0\n",
      "  (14512, 169)\t2.0\n",
      "  (14512, 170)\t27.0\n",
      "  (14513, 169)\t2.0\n",
      "  (14513, 170)\t538.0\n",
      "  (14514, 169)\t3.0\n",
      "  (14514, 170)\t2123.0\n",
      "  (14515, 169)\t6.0\n",
      "  (14515, 170)\t59.0\n",
      "  (14516, 169)\t1.0\n",
      "  (14516, 170)\t615.0\n",
      "  (14517, 169)\t2.0\n",
      "  (14517, 170)\t1878.0\n",
      "  (14518, 169)\t2.0\n",
      "  (14518, 170)\t567.0\n",
      "  (14519, 169)\t2.0\n",
      "  (14519, 170)\t2326.0\n",
      "  (14520, 169)\t2.0\n",
      "  (14520, 170)\t552.0\n",
      "  (14521, 169)\t2.0\n",
      "  (14521, 170)\t573.0\n",
      "  (14522, 169)\t2.0\n",
      "  (14522, 170)\t709.0\n",
      "y_transform =   [1 2 3 ... 2 2 2]\n"
     ]
    }
   ],
   "source": [
    "clf = KNN()\n",
    "X= np.array(df_train)\n",
    "y= np.array(df['Cấp độ'])\n",
    "# print('y= ',y)\n",
    "labelencoder_X = LabelEncoder()\n",
    "X[:,0] = labelencoder_X.fit_transform(X[:,0])\n",
    "X[:,1] = labelencoder_X.fit_transform(X[:,1])\n",
    "X[:,2] = labelencoder_X.fit_transform(X[:,2])\n",
    "onehotencoder_X = OneHotEncoder(categorical_features = [0,1,2,5])\n",
    "onehotencoder_y = OneHotEncoder()\n",
    "X = onehotencoder_X.fit_transform(X)\n",
    "# y=  onehotencoder_y.fit_transform(y)\n",
    "print('X_transform = ',X)\n",
    "print('y_transform =  ',y)"
   ]
  },
  {
   "cell_type": "code",
   "execution_count": null,
   "metadata": {},
   "outputs": [],
   "source": [
    "def accuracy(arr1,arr2):\n",
    "    "
   ]
  },
  {
   "cell_type": "code",
   "execution_count": 7,
   "metadata": {},
   "outputs": [
    {
     "name": "stdout",
     "output_type": "stream",
     "text": [
      "accuracy =  0.9242685025817556\n"
     ]
    }
   ],
   "source": [
    "from sklearn.model_selection import train_test_split\n",
    "from sklearn.metrics import accuracy_score\n",
    "X_train, X_test, y_train, y_test = train_test_split(X, y, test_size=0.2)\n",
    "clf.fit(X_train,y_train)\n",
    "predictions = clf.predict(X_test)\n",
    "accuracy = accuracy_score(y_test,predictions)\n",
    "print('accuracy = ',accuracy)"
   ]
  },
  {
   "cell_type": "code",
   "execution_count": null,
   "metadata": {},
   "outputs": [],
   "source": []
  },
  {
   "cell_type": "code",
   "execution_count": null,
   "metadata": {},
   "outputs": [],
   "source": []
  }
 ],
 "metadata": {
  "kernelspec": {
   "display_name": "Python 3",
   "language": "python",
   "name": "python3"
  },
  "language_info": {
   "codemirror_mode": {
    "name": "ipython",
    "version": 3
   },
   "file_extension": ".py",
   "mimetype": "text/x-python",
   "name": "python",
   "nbconvert_exporter": "python",
   "pygments_lexer": "ipython3",
   "version": "3.6.5"
  }
 },
 "nbformat": 4,
 "nbformat_minor": 2
}
