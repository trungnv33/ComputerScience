{
 "cells": [
  {
   "cell_type": "code",
   "execution_count": 23,
   "metadata": {},
   "outputs": [
    {
     "name": "stdout",
     "output_type": "stream",
     "text": [
      "df=       Pclass     Sex   Age  SibSp  Parch     Fare\n",
      "1        1  female  38.0      1      0  71.2833\n",
      "3        1  female  35.0      1      0  53.1000\n",
      "6        1    male  54.0      0      0  51.8625\n",
      "10       3  female   4.0      1      1  16.7000\n",
      "11       1  female  58.0      0      0  26.5500\n",
      "df_test =     Pclass     Sex   Age  SibSp  Parch     Fare\n",
      "0       3    male  34.5      0      0   7.8292\n",
      "1       3  female  47.0      1      0   7.0000\n",
      "2       2    male  62.0      0      0   9.6875\n",
      "3       3    male  27.0      0      0   8.6625\n",
      "4       3  female  22.0      1      1  12.2875\n"
     ]
    }
   ],
   "source": [
    "import pandas as pd \n",
    "import numpy as np \n",
    "from sklearn.neighbors import KNeighborsClassifier as KNN\n",
    "from sklearn.cluster import KMeans\n",
    "from sklearn import preprocessing\n",
    "from sklearn.metrics import accuracy_score\n",
    "from sklearn.preprocessing import LabelEncoder,OneHotEncoder\n",
    "df = pd.read_csv('train.csv')\n",
    "df.dropna(axis = 0, inplace = True)\n",
    "y = df['Survived'].values\n",
    "df.drop(['Survived','PassengerId','Name','Ticket','Cabin','Embarked'],1,inplace = True)\n",
    "print('df=  ',df.head())\n",
    "df_test = pd.read_csv('test.csv')\n",
    "df_test.drop(['PassengerId','Name','Ticket','Cabin','Embarked'],1,inplace = True)\n",
    "df_test.dropna(0, inplace = True)\n",
    "print('df_test = ' ,df_test.head())"
   ]
  },
  {
   "cell_type": "code",
   "execution_count": 24,
   "metadata": {},
   "outputs": [
    {
     "name": "stdout",
     "output_type": "stream",
     "text": [
      "X =  [[1 'female' 38.0 1 0 71.2833]\n",
      " [1 'female' 35.0 1 0 53.1]\n",
      " [1 'male' 54.0 0 0 51.8625]\n",
      " ...\n",
      " [1 'female' 56.0 0 1 83.1583]\n",
      " [1 'female' 19.0 0 0 30.0]\n",
      " [1 'male' 26.0 0 0 30.0]]\n",
      "X_test =  [[3 'male' 34.5 0 0 7.8292]\n",
      " [3 'female' 47.0 1 0 7.0]\n",
      " [2 'male' 62.0 0 0 9.6875]\n",
      " ...\n",
      " [3 'female' 28.0 0 0 7.775]\n",
      " [1 'female' 39.0 0 0 108.9]\n",
      " [3 'male' 38.5 0 0 7.25]]\n"
     ]
    }
   ],
   "source": [
    "X = df.values\n",
    "X_test = df_test.values\n",
    "print('X = ',X)\n",
    "print('X_test = ',X_test)"
   ]
  },
  {
   "cell_type": "code",
   "execution_count": 25,
   "metadata": {},
   "outputs": [
    {
     "name": "stdout",
     "output_type": "stream",
     "text": [
      "X =  [[1 0 38.0 1 0 71.2833]\n",
      " [1 0 35.0 1 0 53.1]\n",
      " [1 1 54.0 0 0 51.8625]\n",
      " ...\n",
      " [1 0 56.0 0 1 83.1583]\n",
      " [1 0 19.0 0 0 30.0]\n",
      " [1 1 26.0 0 0 30.0]]\n",
      "X_test =  [[3 1 34.5 0 0 7.8292]\n",
      " [3 0 47.0 1 0 7.0]\n",
      " [2 1 62.0 0 0 9.6875]\n",
      " ...\n",
      " [3 0 28.0 0 0 7.775]\n",
      " [1 0 39.0 0 0 108.9]\n",
      " [3 1 38.5 0 0 7.25]]\n"
     ]
    }
   ],
   "source": [
    "labelencoder_X = LabelEncoder()\n",
    "X[:,1]= labelencoder_X.fit_transform(X[:,1])\n",
    "X_test[:,1]= labelencoder_X.fit_transform(X_test[:,1])\n",
    "onehotencoder = OneHotEncoder(categorical_features = [1])\n",
    "print('X = ',X)\n",
    "print('X_test = ',X_test)"
   ]
  },
  {
   "cell_type": "code",
   "execution_count": 26,
   "metadata": {},
   "outputs": [
    {
     "name": "stdout",
     "output_type": "stream",
     "text": [
      "X=  [[ 1.03901177 -1.03901177 -0.37225618 ...  0.83362754 -0.63172982\n",
      "  -0.0971798 ]\n",
      " [ 1.03901177 -1.03901177 -0.37225618 ...  0.83362754 -0.63172982\n",
      "  -0.3359971 ]\n",
      " [-0.96245301  0.96245301 -0.37225618 ... -0.7230443  -0.63172982\n",
      "  -0.35225028]\n",
      " ...\n",
      " [ 1.03901177 -1.03901177 -0.37225618 ... -0.7230443   0.69708118\n",
      "   0.05878503]\n",
      " [ 1.03901177 -1.03901177 -0.37225618 ... -0.7230443  -0.63172982\n",
      "  -0.63938976]\n",
      " [-0.96245301  0.96245301 -0.37225618 ... -0.7230443  -0.63172982\n",
      "  -0.63938976]]\n",
      "X_test =  [[-0.78901776  0.78901776  1.01542612 ... -0.55327231 -0.49211953\n",
      "  -0.54228095]\n",
      " [ 1.2673986  -1.2673986   1.01542612 ...  0.59130978 -0.49211953\n",
      "  -0.55584416]\n",
      " [-0.78901776  0.78901776 -0.16804587 ... -0.55327231 -0.49211953\n",
      "  -0.51188479]\n",
      " ...\n",
      " [ 1.2673986  -1.2673986   1.01542612 ... -0.55327231 -0.49211953\n",
      "  -0.5431675 ]\n",
      " [ 1.2673986  -1.2673986  -1.35151786 ... -0.55327231 -0.49211953\n",
      "   1.11093161]\n",
      " [-0.78901776  0.78901776  1.01542612 ... -0.55327231 -0.49211953\n",
      "  -0.55175491]]\n"
     ]
    }
   ],
   "source": [
    "X = onehotencoder.fit_transform(X).toarray()\n",
    "X_test = onehotencoder.fit_transform(X_test).toarray()\n",
    "X= preprocessing.scale(X)\n",
    "X_test = preprocessing.scale(X_test)\n",
    "print('X= ',X)\n",
    "print('X_test = ',X_test)"
   ]
  },
  {
   "cell_type": "code",
   "execution_count": 27,
   "metadata": {},
   "outputs": [
    {
     "name": "stdout",
     "output_type": "stream",
     "text": [
      "(183, 7)\n",
      "(331, 7)\n",
      "[1 1 0 0 1 1 1 0 1 1 0 1 0 1 1 0 1 1 1 1 1 0 1 1 1 1 0 1 1 1 0 1 1 0 0 0 1\n",
      " 1 0 0 1 1 1 0 1 1 1 1 0 1 1 1 1 1 1 1 0 1 1 1 1 1 1 1 0 1 1 1 1 0 0 1 1 0\n",
      " 1 1 1 0 1 1 1 1 1 0 0 1 0 1 1 0 1 1 1 0 1 0 1 1 1 1 1 1 0 0 1 0 1 0 0 0 1\n",
      " 0 1 1 0 1 0 0 1 0 1 1 1 0 1 1 0 1 1 1 0 1 0 1 1 0 1 0 1 1 1 1 1 1 0 1 1 0\n",
      " 1 0 0 0 1 0 1 1 1 1 1 1 0 1 0 1 0 1 0 1 1 1 1 0 0 1 1 1 1 1 1 1 0 0 1 1 1\n",
      " 1 1 0 1 1 1 1 1 0 0 1 0 1 1 1 0 0 1 1 1 1 1 1 1 1 1 1 0 1 1 1 1 0 1 1 1 1\n",
      " 1 1 0 1 0 1 0 1 0 1 1 0 0 1 0 1 0 1 1 1 1 1 1 1 1 0 1 0 0 0 1 1 1 1 0 0 1\n",
      " 1 0 1 0 1 1 0 0 1 1 1 1 0 1 0 1 1 0 1 0 1 0 1 1 1 1 1 0 1 1 1 1 1 1 0 0 1\n",
      " 1 1 1 0 1 0 1 1 0 0 1 1 0 1 1 0 0 1 0 1 1 1 1 1 1 1 1 1 1 0 1 1 1 1 0]\n"
     ]
    }
   ],
   "source": [
    "model  = KNN()\n",
    "print(X.shape)\n",
    "print(X_test.shape)\n",
    "model.fit(X,y)\n",
    "predictions = model.predict(X_test)\n",
    "print(predictions)"
   ]
  },
  {
   "cell_type": "code",
   "execution_count": 28,
   "metadata": {},
   "outputs": [],
   "source": [
    "submit = list(predictions)\n",
    "new_df = pd.DataFrame({'Survived': submit})\n",
    "new_df.to_csv('titanic_submit_result.csv',index=False)"
   ]
  },
  {
   "cell_type": "code",
   "execution_count": null,
   "metadata": {},
   "outputs": [],
   "source": []
  },
  {
   "cell_type": "code",
   "execution_count": null,
   "metadata": {},
   "outputs": [],
   "source": []
  }
 ],
 "metadata": {
  "kernelspec": {
   "display_name": "Python 3",
   "language": "python",
   "name": "python3"
  },
  "language_info": {
   "codemirror_mode": {
    "name": "ipython",
    "version": 3
   },
   "file_extension": ".py",
   "mimetype": "text/x-python",
   "name": "python",
   "nbconvert_exporter": "python",
   "pygments_lexer": "ipython3",
   "version": "3.6.5"
  }
 },
 "nbformat": 4,
 "nbformat_minor": 2
}
